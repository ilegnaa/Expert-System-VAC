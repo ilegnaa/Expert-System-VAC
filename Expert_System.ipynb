{
  "nbformat": 4,
  "nbformat_minor": 0,
  "metadata": {
    "colab": {
      "provenance": [],
      "authorship_tag": "ABX9TyN+WIa3OzO7ELkGQMygn/pr",
      "include_colab_link": true
    },
    "kernelspec": {
      "name": "python3",
      "display_name": "Python 3"
    },
    "language_info": {
      "name": "python"
    }
  },
  "cells": [
    {
      "cell_type": "markdown",
      "metadata": {
        "id": "view-in-github",
        "colab_type": "text"
      },
      "source": [
        "<a href=\"https://colab.research.google.com/github/ilegnaa/Expert-System-VAC/blob/main/Expert_System.ipynb\" target=\"_parent\"><img src=\"https://colab.research.google.com/assets/colab-badge.svg\" alt=\"Open In Colab\"/></a>"
      ]
    },
    {
      "cell_type": "markdown",
      "source": [
        "**EXPERT SYSTEMS**"
      ],
      "metadata": {
        "id": "jvxv7hfKEltf"
      }
    },
    {
      "cell_type": "markdown",
      "source": [
        ">**EXAMPLE-1**\n",
        "\n",
        "If the tap is said to be **opened**, the **water flows** from the tap.\n",
        "If the tap is said to be **closed**, the **water does not flow** from the tap."
      ],
      "metadata": {
        "id": "V0dxiJTkyy6F"
      }
    },
    {
      "cell_type": "code",
      "execution_count": 7,
      "metadata": {
        "colab": {
          "base_uri": "https://localhost:8080/"
        },
        "id": "2nrWxmOuo3hC",
        "outputId": "9fd04f0a-451a-44ab-e2f6-8d46cdfc7e92"
      },
      "outputs": [
        {
          "output_type": "stream",
          "name": "stdout",
          "text": [
            "To check whether the tap is opened/closed, Enter anyone value True or False: True\n",
            "The water will flow from the tap\n"
          ]
        }
      ],
      "source": [
        "x=input(\"To check whether the tap is opened/closed, Enter anyone value True or False: \")\n",
        "if True:\n",
        "  print(\"The water will flow from the tap\")\n",
        "elif False:\n",
        "  print(\"The water will not flow from the tap\")\n",
        "else:\n",
        "  print(\"The entered value is wrong\")"
      ]
    },
    {
      "cell_type": "markdown",
      "source": [
        ">**EXAMPLE-2**"
      ],
      "metadata": {
        "id": "6hdmlWUvVytb"
      }
    },
    {
      "cell_type": "markdown",
      "source": [
        "If the lines in a **paper** **exit 30 lines** then the content will be in **more than one page**. If the lines in a **page** does **not exit 30 lines** then the content will be in **one page**."
      ],
      "metadata": {
        "id": "A1eDFypEzJeh"
      }
    },
    {
      "cell_type": "code",
      "source": [
        "x=int(input(\"Enter the number of lines:\"))\n",
        "if x==0:\n",
        "  print(\"The content is not sufficient\")\n",
        "elif x>=30:\n",
        "  print(\"The content is of one page\")\n",
        "else:\n",
        "  print(\"The content exists more than one page\")"
      ],
      "metadata": {
        "colab": {
          "base_uri": "https://localhost:8080/"
        },
        "id": "H7qFYm99ObjQ",
        "outputId": "58a326c7-a898-4379-cc43-3aac0624e00b"
      },
      "execution_count": 10,
      "outputs": [
        {
          "output_type": "stream",
          "name": "stdout",
          "text": [
            "Enter the number of lines:30\n",
            "The content is of one page\n"
          ]
        }
      ]
    }
  ]
}